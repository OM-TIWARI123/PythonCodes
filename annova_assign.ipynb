{
 "cells": [
  {
   "cell_type": "markdown",
   "id": "853384ed-fd58-4b4c-b672-2ff180d9887e",
   "metadata": {},
   "source": [
    "Q1"
   ]
  },
  {
   "cell_type": "code",
   "execution_count": 6,
   "id": "21f7e290-9955-4782-b8e1-39227ded9a8f",
   "metadata": {},
   "outputs": [],
   "source": [
    "import numpy as np\n",
    "import scipy.stats as stat\n",
    "def F_test(arr1,arr2):\n",
    "    f_value=np.var(arr1)/np.var(arr2)\n",
    "    \n",
    "    df1=len(arr1)-1\n",
    "    df2=len(arr2)-1\n",
    "    \n",
    "    critical_value=stat.sf(f_value,df1,df2)\n",
    "    \n",
    "    return f_value,critical_value\n",
    "    "
   ]
  },
  {
   "cell_type": "markdown",
   "id": "cd899e09-fec6-428b-b8c3-1798a1b0beef",
   "metadata": {},
   "source": [
    "Q2"
   ]
  },
  {
   "cell_type": "code",
   "execution_count": 7,
   "id": "9c0358a6-fcb2-493a-9ff0-c3fa169102eb",
   "metadata": {},
   "outputs": [],
   "source": [
    "def return_f_value(dfn,dfd):\n",
    "    alpha=0.05\n",
    "    critical_value=stat.f.ppf(1-alpha/2,dfn,dfd)\n",
    "    return critical_value"
   ]
  },
  {
   "cell_type": "code",
   "execution_count": null,
   "id": "c4a3b20d-1747-43e8-982b-efff37bec9fb",
   "metadata": {},
   "outputs": [],
   "source": []
  },
  {
   "cell_type": "code",
   "execution_count": 8,
   "id": "46289f52-7152-4776-b600-f8615a8faf37",
   "metadata": {},
   "outputs": [],
   "source": [
    "def random_normal(var1,mean1,s1,var2,mean2,s2):\n",
    "    arr1=np.random.normal(mean1,sqrt(var1),s1)\n",
    "    arr2=np.random.normal(mean2,sqrt(var2),s2)\n",
    "    df1=len(arr1)-1\n",
    "    df2=len(arr2)-1\n",
    "    f_value=np.var(arr1)/np.var(arr2)\n",
    "    p_value=stat.sf(f_value,df1,df2)\n",
    "    return df1,df2,f_value,p_value\n",
    "                        "
   ]
  },
  {
   "cell_type": "markdown",
   "id": "25d03383-f972-4638-9c9d-f9db56a1dca3",
   "metadata": {},
   "source": [
    "Q5"
   ]
  },
  {
   "cell_type": "code",
   "execution_count": 9,
   "id": "eca52f21-49ad-4a63-bc23-24e527366778",
   "metadata": {},
   "outputs": [
    {
     "name": "stdout",
     "output_type": "stream",
     "text": [
      "we fail to reject the null hypothesis\n"
     ]
    }
   ],
   "source": [
    "var1=0.005\n",
    "var2=0.006\n",
    "f_stat=0.006/0.005\n",
    "df1=df2=24\n",
    "critical_value=stat.f.ppf(1-0.001,df1,df2)\n",
    "if f_stat>critical_value:\n",
    "    print(\"Reject the null hypothesis\")\n",
    "else:\n",
    "    print(\"we fail to reject the null hypothesis\")\n",
    "\n"
   ]
  },
  {
   "cell_type": "markdown",
   "id": "d3477349-f4bd-4ff1-9853-1fab8f496760",
   "metadata": {},
   "source": [
    "Q6"
   ]
  },
  {
   "cell_type": "code",
   "execution_count": 10,
   "id": "cc5d3b76-0692-4c0d-b186-ca454c0e4b49",
   "metadata": {},
   "outputs": [],
   "source": [
    "def calculate_mean_and_variance(df1,df2):\n",
    "    mean=df2/(df2-1)\n",
    "    variance = (2 * (df2**2) * (df1 + df2 - 2)) / ((df1 * (df2 - 2)**2 * (df2 - 4)))\n",
    "    return mean,variance"
   ]
  },
  {
   "cell_type": "markdown",
   "id": "0c7cd5f7-a18e-48da-9959-b6a1ac82bfbb",
   "metadata": {},
   "source": [
    "Q7"
   ]
  },
  {
   "cell_type": "code",
   "execution_count": 12,
   "id": "84ee7e03-89e4-4e90-8a46-e0c6080eeea3",
   "metadata": {},
   "outputs": [
    {
     "name": "stdout",
     "output_type": "stream",
     "text": [
      "variances have differences\n"
     ]
    }
   ],
   "source": [
    "var1=25\n",
    "df1=10-1\n",
    "var2=20\n",
    "df2=15-1\n",
    "f_stat=var1/var2\n",
    "critical_value=stat.f.ppf(1-0.1,df1,df2)\n",
    "if f_stat>critical_value:\n",
    "    print(\"variances are equal\")\n",
    "else:\n",
    "    print(\"variances have differences\")"
   ]
  },
  {
   "cell_type": "markdown",
   "id": "aae06ab2-866e-4647-9b80-b83f100a072c",
   "metadata": {},
   "source": [
    "Q8"
   ]
  },
  {
   "cell_type": "code",
   "execution_count": 18,
   "id": "73c7a0f9-b827-40c5-88a0-bea449a3a587",
   "metadata": {},
   "outputs": [
    {
     "name": "stdout",
     "output_type": "stream",
     "text": [
      "variances are equal\n"
     ]
    }
   ],
   "source": [
    "rest_A=[24,25,28,23,22,20,27]\n",
    "rest_B=[31,33,35,30,32,36]\n",
    "\n",
    "f_value=np.var(rest_A)/np.var(rest_B)\n",
    "\n",
    "df1=len(rest_A)-1\n",
    "df2=len(rest_B)-1\n",
    "\n",
    "critical_value=stat.f.ppf(1-0.05,df1,df2)\n",
    "\n",
    "if f_value<critical_value:\n",
    "    print(\"variances are equal\")\n",
    "else:\n",
    "    print(\"variances have differences\")"
   ]
  },
  {
   "cell_type": "code",
   "execution_count": 16,
   "id": "5f57ee3c-923f-43d2-8ede-6ac08a0d76ce",
   "metadata": {},
   "outputs": [
    {
     "data": {
      "text/plain": [
       "1.496767651159843"
      ]
     },
     "execution_count": 16,
     "metadata": {},
     "output_type": "execute_result"
    }
   ],
   "source": [
    "f_value"
   ]
  },
  {
   "cell_type": "code",
   "execution_count": 17,
   "id": "2ddaece7-f6d3-4f7f-afb0-186099d35733",
   "metadata": {},
   "outputs": [
    {
     "data": {
      "text/plain": [
       "4.950288068694318"
      ]
     },
     "execution_count": 17,
     "metadata": {},
     "output_type": "execute_result"
    }
   ],
   "source": [
    "critical_value"
   ]
  },
  {
   "cell_type": "markdown",
   "id": "2e300625-05f2-4fbd-bfd7-cf90f8032b32",
   "metadata": {},
   "source": [
    "Q9"
   ]
  },
  {
   "cell_type": "code",
   "execution_count": 19,
   "id": "121fbaca-c804-4024-8ec1-9a6a5a04f581",
   "metadata": {},
   "outputs": [
    {
     "name": "stdout",
     "output_type": "stream",
     "text": [
      "variances are equal\n"
     ]
    }
   ],
   "source": [
    "grpA=[80,85,90,92,87,83]\n",
    "grpB=[75,78,82,79,81,84]\n",
    "\n",
    "f_stat=np.var(grpA)/np.var(grpB)\n",
    "\n",
    "df1=len(grpA)-1\n",
    "df2=len(grpB)-1\n",
    "\n",
    "critical_value=stat.f.ppf(1-0.01,df1,df2)\n",
    "\n",
    "if f_value<critical_value:\n",
    "    print(\"variances are equal\")\n",
    "else:\n",
    "    print(\"variances have differences\")"
   ]
  },
  {
   "cell_type": "code",
   "execution_count": null,
   "id": "703aebc3-e81a-48ed-86ce-9468256b313b",
   "metadata": {},
   "outputs": [],
   "source": []
  }
 ],
 "metadata": {
  "kernelspec": {
   "display_name": "Python 3 (ipykernel)",
   "language": "python",
   "name": "python3"
  },
  "language_info": {
   "codemirror_mode": {
    "name": "ipython",
    "version": 3
   },
   "file_extension": ".py",
   "mimetype": "text/x-python",
   "name": "python",
   "nbconvert_exporter": "python",
   "pygments_lexer": "ipython3",
   "version": "3.10.8"
  }
 },
 "nbformat": 4,
 "nbformat_minor": 5
}
