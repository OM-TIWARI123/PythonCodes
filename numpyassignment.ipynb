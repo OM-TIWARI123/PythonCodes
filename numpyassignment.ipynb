{
 "cells": [
  {
   "cell_type": "code",
   "execution_count": 3,
   "id": "f3741a9f-e91d-4e19-876c-09bd9194fe45",
   "metadata": {},
   "outputs": [],
   "source": [
    "import numpy as np\n",
    "list=['1','2','3','4','5']\n",
    "array_list=np.array(list)"
   ]
  },
  {
   "cell_type": "markdown",
   "id": "b0c0fb3e-73c9-4b7b-804a-935a423c79b1",
   "metadata": {},
   "source": [
    "Q1"
   ]
  },
  {
   "cell_type": "markdown",
   "id": "8cbc0d42-0328-4270-a59d-2d0d82232703",
   "metadata": {},
   "source": [
    "List: A list in Python is a collection of items which can contain elements of multiple data types, which may be either numeric, character logical values, etc. It is an ordered collection supporting negative indexing. A list can be created using [] containing data values. Contents of lists can be easily merged and copied using python’s inbuilt functions. \n",
    "Array: An array is a vector containing homogeneous elements i.e. belonging to the same data type. Elements are allocated with contiguous memory locations. Typically the size of an array is fixed. Insertion and Deletion costs high as compare to List however indexing is fast in the Arrays due to contiguous memory allocation."
   ]
  },
  {
   "cell_type": "markdown",
   "id": "de869332-014c-4b46-b53f-9ebe242ab1b1",
   "metadata": {},
   "source": [
    "Q2"
   ]
  },
  {
   "cell_type": "code",
   "execution_count": 9,
   "id": "14105d01-5148-43bb-8019-091cb74910f7",
   "metadata": {},
   "outputs": [
    {
     "data": {
      "text/plain": [
       "dtype('<U1')"
      ]
     },
     "execution_count": 9,
     "metadata": {},
     "output_type": "execute_result"
    }
   ],
   "source": [
    "\n",
    "    array_list.dtype"
   ]
  },
  {
   "cell_type": "code",
   "execution_count": 6,
   "id": "5db5e601-6037-4f45-83b3-0917d03d6ad5",
   "metadata": {},
   "outputs": [
    {
     "name": "stdout",
     "output_type": "stream",
     "text": [
      "<class 'str'>\n",
      "<class 'str'>\n",
      "<class 'str'>\n",
      "<class 'str'>\n",
      "<class 'str'>\n"
     ]
    }
   ],
   "source": [
    "for i in list:\n",
    "    print(type(i))"
   ]
  },
  {
   "cell_type": "markdown",
   "id": "ef240a3a-824e-41cb-a329-e9f8ddf86927",
   "metadata": {},
   "source": [
    "Q3"
   ]
  },
  {
   "cell_type": "code",
   "execution_count": 13,
   "id": "2867391b-90f1-4396-b121-a09f11aa2c33",
   "metadata": {},
   "outputs": [],
   "source": [
    "array_list=np.array(list,dtype=int)"
   ]
  },
  {
   "cell_type": "code",
   "execution_count": 14,
   "id": "cd876af5-81df-495c-9e7a-17b8143bcdab",
   "metadata": {},
   "outputs": [
    {
     "data": {
      "text/plain": [
       "dtype('int64')"
      ]
     },
     "execution_count": 14,
     "metadata": {},
     "output_type": "execute_result"
    }
   ],
   "source": [
    "array_list.dtype"
   ]
  },
  {
   "cell_type": "code",
   "execution_count": 15,
   "id": "c5bdcf18-39d9-4d17-bf65-a7ca7727bd35",
   "metadata": {},
   "outputs": [
    {
     "name": "stdout",
     "output_type": "stream",
     "text": [
      "<class 'str'>\n",
      "<class 'str'>\n",
      "<class 'str'>\n",
      "<class 'str'>\n",
      "<class 'str'>\n"
     ]
    }
   ],
   "source": [
    "for i in list:\n",
    "    print(type(i))"
   ]
  },
  {
   "cell_type": "markdown",
   "id": "036f7e7a-65cc-4416-ab84-112a35537939",
   "metadata": {},
   "source": [
    "Q4"
   ]
  },
  {
   "cell_type": "code",
   "execution_count": 16,
   "id": "1cf91f5e-9a02-46e8-97b1-ee88a32ed283",
   "metadata": {},
   "outputs": [],
   "source": [
    "num_list=[[1,2,3],[4,5,6]]\n",
    "num_array=np.array(num_list)"
   ]
  },
  {
   "cell_type": "code",
   "execution_count": 18,
   "id": "5e9ed142-a54a-4247-8dbd-e09ff535a0f1",
   "metadata": {},
   "outputs": [
    {
     "data": {
      "text/plain": [
       "6"
      ]
     },
     "execution_count": 18,
     "metadata": {},
     "output_type": "execute_result"
    }
   ],
   "source": [
    "num_array.size"
   ]
  },
  {
   "cell_type": "code",
   "execution_count": 21,
   "id": "1985af93-3dbc-4961-84bd-ba7b103c20fc",
   "metadata": {},
   "outputs": [
    {
     "data": {
      "text/plain": [
       "(2, 3)"
      ]
     },
     "execution_count": 21,
     "metadata": {},
     "output_type": "execute_result"
    }
   ],
   "source": [
    "num_array.shape"
   ]
  },
  {
   "cell_type": "code",
   "execution_count": 23,
   "id": "39fa7e7b-6b61-4afa-9732-2fcc57c676d9",
   "metadata": {},
   "outputs": [],
   "source": [
    "arr=np.zeros((3,3))"
   ]
  },
  {
   "cell_type": "code",
   "execution_count": 24,
   "id": "c0f4f235-0225-408f-a0d7-64d5e34c8b02",
   "metadata": {},
   "outputs": [
    {
     "data": {
      "text/plain": [
       "array([[0., 0., 0.],\n",
       "       [0., 0., 0.],\n",
       "       [0., 0., 0.]])"
      ]
     },
     "execution_count": 24,
     "metadata": {},
     "output_type": "execute_result"
    }
   ],
   "source": [
    "arr"
   ]
  },
  {
   "cell_type": "markdown",
   "id": "64215190-3668-4ce8-b59d-530067fa18ee",
   "metadata": {},
   "source": [
    "Q5 "
   ]
  },
  {
   "cell_type": "code",
   "execution_count": 25,
   "id": "60042f1a-0b08-41fd-9521-3f8dcdc901c0",
   "metadata": {},
   "outputs": [],
   "source": [
    "id_matrix=np.eye(5)"
   ]
  },
  {
   "cell_type": "code",
   "execution_count": 27,
   "id": "d977b61b-5b89-47cb-a43a-ffae92b9ff54",
   "metadata": {},
   "outputs": [
    {
     "data": {
      "text/plain": [
       "array([[1., 0., 0., 0., 0.],\n",
       "       [0., 1., 0., 0., 0.],\n",
       "       [0., 0., 1., 0., 0.],\n",
       "       [0., 0., 0., 1., 0.],\n",
       "       [0., 0., 0., 0., 1.]])"
      ]
     },
     "execution_count": 27,
     "metadata": {},
     "output_type": "execute_result"
    }
   ],
   "source": [
    "id_matrix"
   ]
  },
  {
   "cell_type": "code",
   "execution_count": null,
   "id": "1130104a-d9b9-480d-8bb9-1dd2468d59e2",
   "metadata": {},
   "outputs": [],
   "source": []
  }
 ],
 "metadata": {
  "kernelspec": {
   "display_name": "Python 3 (ipykernel)",
   "language": "python",
   "name": "python3"
  },
  "language_info": {
   "codemirror_mode": {
    "name": "ipython",
    "version": 3
   },
   "file_extension": ".py",
   "mimetype": "text/x-python",
   "name": "python",
   "nbconvert_exporter": "python",
   "pygments_lexer": "ipython3",
   "version": "3.10.8"
  }
 },
 "nbformat": 4,
 "nbformat_minor": 5
}
