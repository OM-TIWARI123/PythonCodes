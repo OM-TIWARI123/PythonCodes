{
 "cells": [
  {
   "cell_type": "code",
   "execution_count": 1,
   "id": "00628008-28aa-44b3-ad89-0b4ef7a8c1be",
   "metadata": {},
   "outputs": [],
   "source": [
    "d={}"
   ]
  },
  {
   "cell_type": "code",
   "execution_count": 2,
   "id": "1a82dcc6-168c-43fa-99f6-5794ed1a138b",
   "metadata": {},
   "outputs": [
    {
     "data": {
      "text/plain": [
       "dict"
      ]
     },
     "execution_count": 2,
     "metadata": {},
     "output_type": "execute_result"
    }
   ],
   "source": [
    "type(d)"
   ]
  },
  {
   "cell_type": "code",
   "execution_count": 3,
   "id": "465c721f-3ac4-4b4f-8964-0dafa24f5965",
   "metadata": {},
   "outputs": [],
   "source": [
    "d1={'Name':\"omti\"}"
   ]
  },
  {
   "cell_type": "code",
   "execution_count": 4,
   "id": "c5852158-84ea-403c-baf0-63b0927726c7",
   "metadata": {},
   "outputs": [
    {
     "data": {
      "text/plain": [
       "{'Name': 'omti'}"
      ]
     },
     "execution_count": 4,
     "metadata": {},
     "output_type": "execute_result"
    }
   ],
   "source": [
    "d1"
   ]
  },
  {
   "cell_type": "code",
   "execution_count": 7,
   "id": "24d2a6c2-3f86-457c-8f23-83aa5feeed67",
   "metadata": {},
   "outputs": [],
   "source": [
    "d2={'name':\"OMtiwari\",'email':'xyz@gmail.com','number':344546}"
   ]
  },
  {
   "cell_type": "code",
   "execution_count": 8,
   "id": "7513b8f9-3179-42e2-b63f-4a660f7eab3b",
   "metadata": {},
   "outputs": [
    {
     "data": {
      "text/plain": [
       "{'name': 'OMtiwari', 'email': 'xyz@gmail.com', 'number': 344546}"
      ]
     },
     "execution_count": 8,
     "metadata": {},
     "output_type": "execute_result"
    }
   ],
   "source": [
    "d2"
   ]
  },
  {
   "cell_type": "code",
   "execution_count": 11,
   "id": "93f4f7fb-9a53-43ca-ab3a-615c0b3ac93f",
   "metadata": {},
   "outputs": [],
   "source": [
    "d3={234:\"om\",True:\"rthj\"}"
   ]
  },
  {
   "cell_type": "code",
   "execution_count": 12,
   "id": "394fe684-78a1-4a1c-93ad-c92cbc57fb50",
   "metadata": {},
   "outputs": [
    {
     "data": {
      "text/plain": [
       "{234: 'om', True: 'rthj'}"
      ]
     },
     "execution_count": 12,
     "metadata": {},
     "output_type": "execute_result"
    }
   ],
   "source": [
    "d3"
   ]
  },
  {
   "cell_type": "code",
   "execution_count": 13,
   "id": "73194de8-74f4-4c61-a748-ab973b0bc384",
   "metadata": {},
   "outputs": [
    {
     "data": {
      "text/plain": [
       "'om'"
      ]
     },
     "execution_count": 13,
     "metadata": {},
     "output_type": "execute_result"
    }
   ],
   "source": [
    "d3[234]"
   ]
  },
  {
   "cell_type": "code",
   "execution_count": 14,
   "id": "4ab9b6b3-b19b-4b98-b2c3-aae38218e84d",
   "metadata": {},
   "outputs": [
    {
     "data": {
      "text/plain": [
       "'rthj'"
      ]
     },
     "execution_count": 14,
     "metadata": {},
     "output_type": "execute_result"
    }
   ],
   "source": [
    "d3[True]"
   ]
  },
  {
   "cell_type": "code",
   "execution_count": 15,
   "id": "7f559dc4-e89d-4dbb-90b8-1c3838d7b4ba",
   "metadata": {},
   "outputs": [
    {
     "data": {
      "text/plain": [
       "'rthj'"
      ]
     },
     "execution_count": 15,
     "metadata": {},
     "output_type": "execute_result"
    }
   ],
   "source": [
    "d3[1]"
   ]
  },
  {
   "cell_type": "code",
   "execution_count": 16,
   "id": "45f1ca5d-3959-4790-8fac-a1cd070f7dcf",
   "metadata": {},
   "outputs": [],
   "source": [
    "d3={'name':\"omTiwari\",'email':\"xyz@\",'name':\"tiwari\"}"
   ]
  },
  {
   "cell_type": "code",
   "execution_count": 18,
   "id": "843c9f25-7061-4dcb-b27a-17de4c9c6f06",
   "metadata": {},
   "outputs": [
    {
     "data": {
      "text/plain": [
       "'tiwari'"
      ]
     },
     "execution_count": 18,
     "metadata": {},
     "output_type": "execute_result"
    }
   ],
   "source": [
    "d3['name']"
   ]
  },
  {
   "cell_type": "code",
   "execution_count": 19,
   "id": "97a0ed99-0c07-4a0e-81ba-decb399ad55e",
   "metadata": {},
   "outputs": [
    {
     "data": {
      "text/plain": [
       "{'name': 'tiwari', 'email': 'xyz@'}"
      ]
     },
     "execution_count": 19,
     "metadata": {},
     "output_type": "execute_result"
    }
   ],
   "source": [
    "d3"
   ]
  },
  {
   "cell_type": "code",
   "execution_count": 26,
   "id": "63805fa6-9c40-47be-8097-1b99638901e2",
   "metadata": {},
   "outputs": [],
   "source": [
    "d5={\"company\":\"pwskills\",\"course\":[\"webdev\",\"datascience\",\"javawithsystemdesign\"]}"
   ]
  },
  {
   "cell_type": "code",
   "execution_count": 27,
   "id": "ab73573f-d249-49fb-ba59-65136066dc7e",
   "metadata": {},
   "outputs": [
    {
     "data": {
      "text/plain": [
       "['webdev', 'datascience', 'javawithsystemdesign']"
      ]
     },
     "execution_count": 27,
     "metadata": {},
     "output_type": "execute_result"
    }
   ],
   "source": [
    "d5[\"course\"]"
   ]
  },
  {
   "cell_type": "code",
   "execution_count": 29,
   "id": "c1c97f07-543c-4ad8-b66e-f0d6175ce9ee",
   "metadata": {},
   "outputs": [
    {
     "data": {
      "text/plain": [
       "{'company': 'pwskills',\n",
       " 'course': ['webdev', 'datascience', 'javawithsystemdesign']}"
      ]
     },
     "execution_count": 29,
     "metadata": {},
     "output_type": "execute_result"
    }
   ],
   "source": [
    "d5"
   ]
  },
  {
   "cell_type": "code",
   "execution_count": 28,
   "id": "0bbaa161-dc42-4edd-a4fa-466996e0a70b",
   "metadata": {},
   "outputs": [
    {
     "data": {
      "text/plain": [
       "'datascience'"
      ]
     },
     "execution_count": 28,
     "metadata": {},
     "output_type": "execute_result"
    }
   ],
   "source": [
    "d5[\"course\"][1]"
   ]
  },
  {
   "cell_type": "code",
   "execution_count": 31,
   "id": "db1871e9-88b2-4738-a988-d2c7745ce1d1",
   "metadata": {},
   "outputs": [],
   "source": [
    "d6={'nummber':[2,4,67,8,11],'assignment':(23,5,67,7+8j,56),'classtime':{'web_dev':8,'data_science':8,'javawithsystemdesign':7}}"
   ]
  },
  {
   "cell_type": "code",
   "execution_count": 32,
   "id": "5d244897-70b5-417b-afae-e747590624f8",
   "metadata": {},
   "outputs": [
    {
     "data": {
      "text/plain": [
       "{'nummber': [2, 4, 67, 8, 11],\n",
       " 'assignment': (23, 5, 67, (7+8j), 56),\n",
       " 'classtime': {'web_dev': 8, 'data_science': 8, 'javawithsystemdesign': 7}}"
      ]
     },
     "execution_count": 32,
     "metadata": {},
     "output_type": "execute_result"
    }
   ],
   "source": [
    "d6"
   ]
  },
  {
   "cell_type": "code",
   "execution_count": 33,
   "id": "a653e8f4-9ff9-475d-99f9-97195b70b6a7",
   "metadata": {},
   "outputs": [],
   "source": [
    "d6['mentor']={\"sudhanshu\",\"krish\",\"anurag\",\"haider\"}"
   ]
  },
  {
   "cell_type": "code",
   "execution_count": 34,
   "id": "0942ad36-21e1-4373-8148-53a1fbfbae3a",
   "metadata": {},
   "outputs": [
    {
     "data": {
      "text/plain": [
       "{'nummber': [2, 4, 67, 8, 11],\n",
       " 'assignment': (23, 5, 67, (7+8j), 56),\n",
       " 'classtime': {'web_dev': 8, 'data_science': 8, 'javawithsystemdesign': 7},\n",
       " 'mentor': {'anurag', 'haider', 'krish', 'sudhanshu'}}"
      ]
     },
     "execution_count": 34,
     "metadata": {},
     "output_type": "execute_result"
    }
   ],
   "source": [
    "d6"
   ]
  },
  {
   "cell_type": "code",
   "execution_count": 36,
   "id": "1359e529-25d2-46d6-be3a-991592a22d83",
   "metadata": {},
   "outputs": [
    {
     "data": {
      "text/plain": [
       "['nummber', 'assignment', 'classtime', 'mentor']"
      ]
     },
     "execution_count": 36,
     "metadata": {},
     "output_type": "execute_result"
    }
   ],
   "source": [
    "list(d6.keys())"
   ]
  },
  {
   "cell_type": "code",
   "execution_count": 38,
   "id": "4f44042b-9808-49eb-9b98-b2d530072017",
   "metadata": {},
   "outputs": [
    {
     "data": {
      "text/plain": [
       "[[2, 4, 67, 8, 11],\n",
       " (23, 5, 67, (7+8j), 56),\n",
       " {'web_dev': 8, 'data_science': 8, 'javawithsystemdesign': 7},\n",
       " {'anurag', 'haider', 'krish', 'sudhanshu'}]"
      ]
     },
     "execution_count": 38,
     "metadata": {},
     "output_type": "execute_result"
    }
   ],
   "source": [
    "list(d6.values())"
   ]
  },
  {
   "cell_type": "markdown",
   "id": "eef78217-1e99-4036-b6a9-480b4b6a2854",
   "metadata": {},
   "source": [
    "d6.items()"
   ]
  },
  {
   "cell_type": "code",
   "execution_count": 41,
   "id": "0df856a6-1238-4327-ad05-b722d687a610",
   "metadata": {},
   "outputs": [
    {
     "data": {
      "text/plain": [
       "[('nummber', [2, 4, 67, 8, 11]),\n",
       " ('assignment', (23, 5, 67, (7+8j), 56)),\n",
       " ('classtime', {'web_dev': 8, 'data_science': 8, 'javawithsystemdesign': 7}),\n",
       " ('mentor', {'anurag', 'haider', 'krish', 'sudhanshu'})]"
      ]
     },
     "execution_count": 41,
     "metadata": {},
     "output_type": "execute_result"
    }
   ],
   "source": [
    "list(d6.items())"
   ]
  },
  {
   "cell_type": "code",
   "execution_count": 42,
   "id": "11eb8ef0-bbd1-454e-850c-1238ebe1c0e9",
   "metadata": {},
   "outputs": [
    {
     "data": {
      "text/plain": [
       "(23, 5, 67, (7+8j), 56)"
      ]
     },
     "execution_count": 42,
     "metadata": {},
     "output_type": "execute_result"
    }
   ],
   "source": [
    "d6.pop('assignment')"
   ]
  },
  {
   "cell_type": "code",
   "execution_count": null,
   "id": "0c1266f4-31b8-44d3-bbfa-041515f46b75",
   "metadata": {},
   "outputs": [],
   "source": [
    "marks=int(input(\"enter your marks\"))\n",
    "if marks>=80:\n",
    "    print(\"you will be a part of A0 batch\")\n",
    "elif marks>40 and marks<80:\n",
    "    print(\"you will be part of a1 batch\")\n",
    "else:\n",
    "    print(\"you are in a2 batch\")"
   ]
  },
  {
   "cell_type": "code",
   "execution_count": 1,
   "id": "6483f314-d400-4ee6-89d5-12111cfc9831",
   "metadata": {},
   "outputs": [
    {
     "name": "stdin",
     "output_type": "stream",
     "text": [
      "Enter price 1000000\n"
     ]
    },
    {
     "name": "stdout",
     "output_type": "stream",
     "text": [
      "I will Not purchase\n"
     ]
    }
   ],
   "source": [
    "price=int(input(\"Enter price\"))\n",
    "if price > 1000:\n",
    "    print(\"I will Not purchase\")\n",
    "else:\n",
    "    print(\"i will purchase\")"
   ]
  },
  {
   "cell_type": "code",
   "execution_count": 2,
   "id": "ba825777-3ce8-4096-9b53-289293041667",
   "metadata": {},
   "outputs": [],
   "source": [
    "l=[1,2,3,4,55,6,6,7,8,9,9,]\n"
   ]
  },
  {
   "cell_type": "code",
   "execution_count": 3,
   "id": "80cb1da6-7544-4147-a493-0148c142c5ed",
   "metadata": {},
   "outputs": [
    {
     "name": "stdout",
     "output_type": "stream",
     "text": [
      "1\n",
      "2\n",
      "3\n",
      "4\n",
      "55\n",
      "6\n",
      "6\n",
      "7\n",
      "8\n",
      "9\n",
      "9\n"
     ]
    }
   ],
   "source": [
    "for i in l:\n",
    "    print(i)"
   ]
  },
  {
   "cell_type": "code",
   "execution_count": 7,
   "id": "8ae43390-15e4-458f-bbe7-57da994cb2e4",
   "metadata": {},
   "outputs": [],
   "source": [
    "l=[\"sudh\",\"kumar\",\"pwskills\",\"course\"]\n",
    "l1=[]"
   ]
  },
  {
   "cell_type": "code",
   "execution_count": 8,
   "id": "88d30dda-5ced-4a68-9791-b464902a90aa",
   "metadata": {},
   "outputs": [],
   "source": [
    "\n",
    "for i in l:\n",
    "   l1.append(i.upper())"
   ]
  },
  {
   "cell_type": "code",
   "execution_count": 9,
   "id": "337db4bf-a92b-4bea-beec-774eb7c7c25f",
   "metadata": {},
   "outputs": [
    {
     "data": {
      "text/plain": [
       "['SUDH', 'KUMAR', 'PWSKILLS', 'COURSE']"
      ]
     },
     "execution_count": 9,
     "metadata": {},
     "output_type": "execute_result"
    }
   ],
   "source": [
    "l1"
   ]
  },
  {
   "cell_type": "code",
   "execution_count": 10,
   "id": "dcef21ce-26bc-4915-a29f-77a29c67db04",
   "metadata": {},
   "outputs": [],
   "source": [
    "l=[1,2,3,4,\"sudh\",\"kumar\",324,34.456,\"abc\"]"
   ]
  },
  {
   "cell_type": "code",
   "execution_count": 11,
   "id": "f5590907-f205-4df6-9b2f-672e4470a747",
   "metadata": {},
   "outputs": [],
   "source": [
    "l1=[]\n",
    "l2=[]\n",
    "for i in l:\n",
    "    if type(i)==int:\n",
    "        l1.append(i)\n",
    "    elif type(i)==str:\n",
    "        l2.append(i)"
   ]
  },
  {
   "cell_type": "code",
   "execution_count": 12,
   "id": "6b13bbaf-d165-449a-b24a-63d4696ef943",
   "metadata": {},
   "outputs": [
    {
     "data": {
      "text/plain": [
       "[1, 2, 3, 4, 324]"
      ]
     },
     "execution_count": 12,
     "metadata": {},
     "output_type": "execute_result"
    }
   ],
   "source": [
    "l1"
   ]
  },
  {
   "cell_type": "code",
   "execution_count": 13,
   "id": "ee43aa28-4b8c-403d-a67f-e9ee21b35f4a",
   "metadata": {},
   "outputs": [
    {
     "data": {
      "text/plain": [
       "['sudh', 'kumar', 'abc']"
      ]
     },
     "execution_count": 13,
     "metadata": {},
     "output_type": "execute_result"
    }
   ],
   "source": [
    "l2"
   ]
  },
  {
   "cell_type": "code",
   "execution_count": 1,
   "id": "d2d2e1f3-a4e7-43cc-99c7-7116ea916caa",
   "metadata": {},
   "outputs": [],
   "source": [
    "l1=[\"sudh\",\"krish\",\"kumar\",\"naik\"]"
   ]
  },
  {
   "cell_type": "code",
   "execution_count": 2,
   "id": "955d4740-056c-4d6b-890b-888f2b5af793",
   "metadata": {},
   "outputs": [
    {
     "data": {
      "text/plain": [
       "['sudh', 'krish', 'kumar', 'naik']"
      ]
     },
     "execution_count": 2,
     "metadata": {},
     "output_type": "execute_result"
    }
   ],
   "source": [
    "l1"
   ]
  },
  {
   "cell_type": "code",
   "execution_count": 3,
   "id": "ce61c8d2-6e42-4734-b003-51d1926897c3",
   "metadata": {},
   "outputs": [
    {
     "name": "stdout",
     "output_type": "stream",
     "text": [
      "sudh\n",
      "krish\n",
      "kumar\n",
      "naik\n",
      "if for loop is able to complete itself then only else wiil execute\n"
     ]
    }
   ],
   "source": [
    "for i in l1:\n",
    "    print(i)\n",
    "else:\n",
    "    print(\"if for loop is able to complete itself then only else wiil execute\")"
   ]
  },
  {
   "cell_type": "code",
   "execution_count": 4,
   "id": "4275c218-300e-4fbe-8a83-8fa5b7553682",
   "metadata": {},
   "outputs": [
    {
     "name": "stdout",
     "output_type": "stream",
     "text": [
      "sudh\n",
      "krish\n"
     ]
    }
   ],
   "source": [
    "for i in l1:\n",
    "    if i==\"kumar\":\n",
    "        break\n",
    "    print(i)"
   ]
  },
  {
   "cell_type": "code",
   "execution_count": 5,
   "id": "f91d7076-0c02-4f44-ae41-3545a062beea",
   "metadata": {},
   "outputs": [
    {
     "name": "stdout",
     "output_type": "stream",
     "text": [
      "sudh\n",
      "krish\n"
     ]
    }
   ],
   "source": [
    "for i in l1:\n",
    "    if i==\"kumar\":\n",
    "        break\n",
    "    print(i)\n",
    "else:\n",
    "    print(\"execute this if for loop is able ton com plete itself\")"
   ]
  },
  {
   "cell_type": "code",
   "execution_count": 6,
   "id": "6aedb5b2-5d87-4144-a14f-0d9118685d74",
   "metadata": {},
   "outputs": [
    {
     "name": "stdout",
     "output_type": "stream",
     "text": [
      "sudh\n",
      "krish\n",
      "naik\n"
     ]
    }
   ],
   "source": [
    "for i in l1:\n",
    "    if i==\"kumar\":\n",
    "        continue\n",
    "    print(i)"
   ]
  },
  {
   "cell_type": "code",
   "execution_count": 7,
   "id": "ba690c8e-ddd4-417d-bb04-c3b3ae55d87d",
   "metadata": {},
   "outputs": [
    {
     "name": "stdout",
     "output_type": "stream",
     "text": [
      "sudh\n",
      "krish\n",
      "naik\n",
      "execute this if for loop is able to complete itself\n"
     ]
    }
   ],
   "source": [
    "for i in l1:\n",
    "    if i==\"kumar\":\n",
    "        continue\n",
    "    print(i)\n",
    "else:\n",
    "    print(\"execute this if for loop is able to complete itself\")"
   ]
  },
  {
   "cell_type": "code",
   "execution_count": 10,
   "id": "ed3b3764-72d4-446a-b17d-73bb878cb933",
   "metadata": {},
   "outputs": [
    {
     "data": {
      "text/plain": [
       "[0, 1, 2, 3, 4]"
      ]
     },
     "execution_count": 10,
     "metadata": {},
     "output_type": "execute_result"
    }
   ],
   "source": [
    "list(range(0,5,1))"
   ]
  },
  {
   "cell_type": "code",
   "execution_count": 12,
   "id": "3b69eb43-0732-4683-b0e1-b6fbd3759610",
   "metadata": {},
   "outputs": [
    {
     "data": {
      "text/plain": [
       "[0, 2, 4, 6, 8, 10, 12, 14, 16, 18]"
      ]
     },
     "execution_count": 12,
     "metadata": {},
     "output_type": "execute_result"
    }
   ],
   "source": [
    "list(range(0,20,2))"
   ]
  },
  {
   "cell_type": "code",
   "execution_count": 13,
   "id": "49eadfc5-8790-4a0b-b6c8-26f797fbdb5c",
   "metadata": {},
   "outputs": [
    {
     "data": {
      "text/plain": [
       "[-10, -9, -8, -7, -6, -5, -4, -3, -2, -1]"
      ]
     },
     "execution_count": 13,
     "metadata": {},
     "output_type": "execute_result"
    }
   ],
   "source": [
    "list(range(-10,0))"
   ]
  },
  {
   "cell_type": "code",
   "execution_count": 14,
   "id": "c63985b3-a43e-4e1c-8ef0-c42cbbaabb3e",
   "metadata": {},
   "outputs": [
    {
     "name": "stdout",
     "output_type": "stream",
     "text": [
      "sudh\n",
      "krish\n",
      "kumar\n",
      "naik\n"
     ]
    }
   ],
   "source": [
    "for i in range(len(l1)):\n",
    "    print(l1[i])"
   ]
  },
  {
   "cell_type": "code",
   "execution_count": 16,
   "id": "a840146d-6385-4684-87c8-61df49d3cf19",
   "metadata": {},
   "outputs": [
    {
     "name": "stdout",
     "output_type": "stream",
     "text": [
      "naik\n",
      "kumar\n",
      "krish\n",
      "sudh\n"
     ]
    }
   ],
   "source": [
    "for  i in range(len(l1)-1,-1,-1 ):\n",
    "    print(l1[i])"
   ]
  },
  {
   "cell_type": "code",
   "execution_count": 2,
   "id": "c88982fd-e676-48d4-b3c5-e03998214fbe",
   "metadata": {},
   "outputs": [],
   "source": [
    "\n",
    "l2=[23,5,45,65,34,78,23,4567,2,3,4,6,8]"
   ]
  },
  {
   "cell_type": "code",
   "execution_count": 5,
   "id": "e83fb362-9cfe-4656-b898-f8ac565ace80",
   "metadata": {},
   "outputs": [
    {
     "name": "stdout",
     "output_type": "stream",
     "text": [
      "23\n",
      "45\n",
      "34\n",
      "23\n",
      "2\n",
      "4\n",
      "8\n"
     ]
    }
   ],
   "source": [
    "for i in range(0,len(l2),2):\n",
    "    print(l2[i])"
   ]
  },
  {
   "cell_type": "code",
   "execution_count": 6,
   "id": "f32ef9b7-6d67-4468-9980-852a0699f584",
   "metadata": {},
   "outputs": [],
   "source": [
    "l=[1,1,2,45,67]"
   ]
  },
  {
   "cell_type": "code",
   "execution_count": 11,
   "id": "a053121f-c0df-4abf-be5d-23307185bc3a",
   "metadata": {},
   "outputs": [
    {
     "name": "stdout",
     "output_type": "stream",
     "text": [
      "49.67\n"
     ]
    }
   ],
   "source": [
    "sum=0\n",
    "for i in range(len(l)):\n",
    "    sum+=l[i]\n",
    "print(sum)"
   ]
  },
  {
   "cell_type": "code",
   "execution_count": null,
   "id": "cba81371-43ce-4c89-83a1-303f41b65d80",
   "metadata": {},
   "outputs": [],
   "source": []
  }
 ],
 "metadata": {
  "kernelspec": {
   "display_name": "Python 3 (ipykernel)",
   "language": "python",
   "name": "python3"
  },
  "language_info": {
   "codemirror_mode": {
    "name": "ipython",
    "version": 3
   },
   "file_extension": ".py",
   "mimetype": "text/x-python",
   "name": "python",
   "nbconvert_exporter": "python",
   "pygments_lexer": "ipython3",
   "version": "3.10.6"
  }
 },
 "nbformat": 4,
 "nbformat_minor": 5
}
