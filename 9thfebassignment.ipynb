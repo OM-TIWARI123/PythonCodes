{
 "cells": [
  {
   "cell_type": "markdown",
   "id": "3b8f725e-8ee0-4c6c-9584-539a9f74cd87",
   "metadata": {},
   "source": [
    "Q1:\n",
    "    "
   ]
  },
  {
   "cell_type": "code",
   "execution_count": 2,
   "id": "adb93ba2-767e-48ad-a63b-56a78b678eb2",
   "metadata": {},
   "outputs": [],
   "source": [
    "class vehicle:\n",
    "    def __init__(self,name,speed,average):\n",
    "        self.name_of_vehicle=name\n",
    "        self.max_speed=speed\n",
    "        self.average_of_vehicle=average\n",
    "        "
   ]
  },
  {
   "cell_type": "markdown",
   "id": "b434d015-7563-464b-a3eb-c71e9ba78309",
   "metadata": {},
   "source": [
    "Q2:"
   ]
  },
  {
   "cell_type": "code",
   "execution_count": 3,
   "id": "a6ad587e-26f9-40fd-b55f-1f9240ad421c",
   "metadata": {},
   "outputs": [],
   "source": [
    "class car(vehicle):\n",
    "    def seating_capacity(self,capacity):\n",
    "        return self.name_of_vehicle,capacity"
   ]
  },
  {
   "cell_type": "code",
   "execution_count": 6,
   "id": "72bedb2c-7980-4b0c-b31d-a5514adc46ee",
   "metadata": {},
   "outputs": [],
   "source": [
    "c=car(\"mercedes\",180,34)"
   ]
  },
  {
   "cell_type": "code",
   "execution_count": 7,
   "id": "8cf0a245-c9bc-494c-8ba5-0b53b0e6a788",
   "metadata": {},
   "outputs": [
    {
     "data": {
      "text/plain": [
       "('mercedes', 4)"
      ]
     },
     "execution_count": 7,
     "metadata": {},
     "output_type": "execute_result"
    }
   ],
   "source": [
    "c.seating_capacity(4)"
   ]
  },
  {
   "cell_type": "markdown",
   "id": "6e2e5608-fed5-46a5-87fb-2455fc3040ba",
   "metadata": {},
   "source": [
    "Q3:\n",
    "ans-In multiple inheritance a class inherits from multiple other classes eg-\n"
   ]
  },
  {
   "cell_type": "code",
   "execution_count": 8,
   "id": "08f5f5ee-79f3-4b46-a6ed-fdb65e9bf391",
   "metadata": {},
   "outputs": [],
   "source": [
    "class class1:\n",
    "    def test_class1(self):\n",
    "        return \"this is my class1\""
   ]
  },
  {
   "cell_type": "code",
   "execution_count": 9,
   "id": "a9db5aae-f96f-4300-80b5-2c18e4003c65",
   "metadata": {},
   "outputs": [],
   "source": [
    "class class2:\n",
    "    def test_class2(self):\n",
    "        return \"this is my class2\""
   ]
  },
  {
   "cell_type": "code",
   "execution_count": 10,
   "id": "41a198c2-0e11-4b58-910d-55d96b68db09",
   "metadata": {},
   "outputs": [],
   "source": [
    "class class3(class1,class2):\n",
    "    pass"
   ]
  },
  {
   "cell_type": "code",
   "execution_count": 11,
   "id": "02c44c31-939a-4553-9eb4-2775f18b7174",
   "metadata": {},
   "outputs": [],
   "source": [
    "a=class3()"
   ]
  },
  {
   "cell_type": "code",
   "execution_count": 12,
   "id": "66a8469b-1eca-4b03-8a4e-e63f3baedce1",
   "metadata": {},
   "outputs": [
    {
     "data": {
      "text/plain": [
       "'this is my class1'"
      ]
     },
     "execution_count": 12,
     "metadata": {},
     "output_type": "execute_result"
    }
   ],
   "source": [
    "a.test_class1()"
   ]
  },
  {
   "cell_type": "code",
   "execution_count": 13,
   "id": "5ace320f-76bc-408b-8118-3946f4cf5ef7",
   "metadata": {},
   "outputs": [
    {
     "data": {
      "text/plain": [
       "'this is my class2'"
      ]
     },
     "execution_count": 13,
     "metadata": {},
     "output_type": "execute_result"
    }
   ],
   "source": [
    "a.test_class2()"
   ]
  },
  {
   "cell_type": "markdown",
   "id": "6909aab8-f534-4799-ae7a-a3aadf564224",
   "metadata": {},
   "source": [
    "Q4:\n",
    "Getters: These are the methods used in Object-Oriented Programming (OOPS) which helps to access the private attributes from a class. Setters: These are the methods used in OOPS feature which helps to set the value to private attributes in a class."
   ]
  },
  {
   "cell_type": "code",
   "execution_count": 16,
   "id": "0aa5c836-7c85-4703-9ba0-9251d46a27ec",
   "metadata": {},
   "outputs": [],
   "source": [
    "class bank_account:\n",
    "    def __init__(self,balance,year):\n",
    "        self.__bank_balance=balance\n",
    "        self.year=year\n",
    "    @property\n",
    "    def get_bankbalance(self):\n",
    "        return self.__bank_balance\n",
    "    @get_bankbalance.setter\n",
    "    def set_balance(self,balance):\n",
    "        self.__bank_balance=balance"
   ]
  },
  {
   "cell_type": "code",
   "execution_count": 18,
   "id": "24dc2312-e862-4cf7-9e7e-a119eefe6ee9",
   "metadata": {},
   "outputs": [],
   "source": [
    "pw=bank_account(80000000,2022)"
   ]
  },
  {
   "cell_type": "code",
   "execution_count": 21,
   "id": "52fcb8fd-ff91-4e79-86cd-089cbee2e314",
   "metadata": {},
   "outputs": [
    {
     "data": {
      "text/plain": [
       "80000000"
      ]
     },
     "execution_count": 21,
     "metadata": {},
     "output_type": "execute_result"
    }
   ],
   "source": [
    "pw.get_bankbalance"
   ]
  },
  {
   "cell_type": "code",
   "execution_count": 31,
   "id": "6aa4d4a2-d051-4c45-a89d-cfa9a1a15d01",
   "metadata": {},
   "outputs": [],
   "source": [
    "pw.set_balance=80"
   ]
  },
  {
   "cell_type": "code",
   "execution_count": 32,
   "id": "0e09f8d6-cae9-42be-b711-9d24ad5b51f5",
   "metadata": {},
   "outputs": [
    {
     "data": {
      "text/plain": [
       "80"
      ]
     },
     "execution_count": 32,
     "metadata": {},
     "output_type": "execute_result"
    }
   ],
   "source": [
    "pw.get_bankbalance"
   ]
  },
  {
   "cell_type": "markdown",
   "id": "70cc09d1-4915-4268-a765-63767fc098c0",
   "metadata": {},
   "source": [
    "Q5:\n",
    "Method overriding is an ability of any object-oriented programming language that allows a subclass or child class to provide a specific implementation of a method that is already provided by one of its super-classes or parent classes. When a method in a subclass has the same name, same parameters or signature and same return type(or sub-type) as a method in its super-class, then the method in the subclass is said to override the method in the super-class."
   ]
  },
  {
   "cell_type": "code",
   "execution_count": 33,
   "id": "f9973227-bf68-442e-a746-b866fc64ad97",
   "metadata": {},
   "outputs": [],
   "source": [
    "class parent:\n",
    "    def __init__(self,name):\n",
    "         self.parent_name=name\n",
    "    def show_name(self):\n",
    "        print(\"this is parents name\")\n",
    "    "
   ]
  },
  {
   "cell_type": "code",
   "execution_count": 34,
   "id": "88557cbb-9288-41ed-9b75-63f7dc8cabbe",
   "metadata": {},
   "outputs": [],
   "source": [
    "class child(parent):\n",
    "    def __init__(self,name):\n",
    "        self.child_name=name\n",
    "    def show_name(self):\n",
    "        print(\"this is childs name\")\n",
    "    \n",
    "        "
   ]
  },
  {
   "cell_type": "code",
   "execution_count": null,
   "id": "69f65c5d-0de8-412a-b06f-d49e0aeb1a46",
   "metadata": {},
   "outputs": [],
   "source": [
    "paren"
   ]
  }
 ],
 "metadata": {
  "kernelspec": {
   "display_name": "Python 3 (ipykernel)",
   "language": "python",
   "name": "python3"
  },
  "language_info": {
   "codemirror_mode": {
    "name": "ipython",
    "version": 3
   },
   "file_extension": ".py",
   "mimetype": "text/x-python",
   "name": "python",
   "nbconvert_exporter": "python",
   "pygments_lexer": "ipython3",
   "version": "3.10.6"
  }
 },
 "nbformat": 4,
 "nbformat_minor": 5
}
