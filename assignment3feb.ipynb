{
 "cells": [
  {
   "cell_type": "markdown",
   "id": "13884752-8310-4728-a4cc-b36b741cff37",
   "metadata": {},
   "source": [
    "Q1:\n"
   ]
  },
  {
   "cell_type": "code",
   "execution_count": 1,
   "id": "45db9216-dcc6-4ec4-baf6-02d055e6ef8e",
   "metadata": {},
   "outputs": [
    {
     "name": "stdout",
     "output_type": "stream",
     "text": [
      "565\n",
      "1234\n"
     ]
    }
   ],
   "source": [
    "l1=[\"omTiwari\",\"pwSkills\",565,1234]\n",
    "for i in l1:\n",
    "    if type(i)==int:\n",
    "        print(i)"
   ]
  },
  {
   "cell_type": "code",
   "execution_count": 2,
   "id": "cd2ca607-c209-473f-bda5-5d1fe1eb8a40",
   "metadata": {},
   "outputs": [
    {
     "name": "stdout",
     "output_type": "stream",
     "text": [
      "0\n",
      "1\n",
      "2\n",
      "3\n",
      "4\n",
      "5\n",
      "6\n",
      "7\n",
      "8\n",
      "9\n"
     ]
    }
   ],
   "source": [
    "i=0\n",
    "while i<10:\n",
    "    print(i)\n",
    "    i=i+1"
   ]
  },
  {
   "cell_type": "markdown",
   "id": "2038a44c-3987-4733-a379-90a89a2e45aa",
   "metadata": {},
   "source": [
    "Q2: sum of first ten natural number\n"
   ]
  },
  {
   "cell_type": "code",
   "execution_count": 1,
   "id": "7c100262-896b-4ee8-bc5d-66e020c0a0ca",
   "metadata": {},
   "outputs": [
    {
     "name": "stdout",
     "output_type": "stream",
     "text": [
      "55\n"
     ]
    }
   ],
   "source": [
    "sum=0\n",
    "for i in range(1,11):\n",
    "    sum+=i\n",
    "print(sum)\n",
    "    "
   ]
  },
  {
   "cell_type": "code",
   "execution_count": 2,
   "id": "bcf51e1e-e252-4f1b-b42a-1faa09f92b6b",
   "metadata": {},
   "outputs": [
    {
     "name": "stdout",
     "output_type": "stream",
     "text": [
      "55\n"
     ]
    }
   ],
   "source": [
    "sum=0\n",
    "i=1\n",
    "while i<=10:\n",
    "    sum+=i\n",
    "    i=i+1\n",
    "print(sum)"
   ]
  },
  {
   "cell_type": "markdown",
   "id": "3ffc8e32-409b-423a-ae97-533b4fee77a7",
   "metadata": {},
   "source": [
    "Q3:electricity bill calculator"
   ]
  },
  {
   "cell_type": "code",
   "execution_count": 6,
   "id": "82eca164-f494-42a3-9de0-ddc4b5a9f046",
   "metadata": {},
   "outputs": [
    {
     "name": "stdin",
     "output_type": "stream",
     "text": [
      "enter the units consumed 310\n"
     ]
    },
    {
     "name": "stdout",
     "output_type": "stream",
     "text": [
      "2250.0\n"
     ]
    }
   ],
   "source": [
    "n=int(input(\"enter the units consumed\"))\n",
    "bill=0\n",
    "for i in range(1,n+1):\n",
    "    if i<=100:\n",
    "        bill+=4.5\n",
    "    elif i>100 and i<=200:\n",
    "        bill+=6\n",
    "    elif i>200 and i<=300:\n",
    "        bill+=10\n",
    "    else:\n",
    "        bill+=20\n",
    "print(bill)"
   ]
  },
  {
   "cell_type": "markdown",
   "id": "10350ccf-fd81-40a4-8499-86159a359aee",
   "metadata": {},
   "source": [
    "Q4:"
   ]
  },
  {
   "cell_type": "code",
   "execution_count": 7,
   "id": "bf9095f4-7ab6-4674-9b5c-373255f9eca7",
   "metadata": {},
   "outputs": [
    {
     "name": "stdout",
     "output_type": "stream",
     "text": [
      "[8, 64, 125, 216, 512, 1000, 1728, 2744, 3375, 4096, 5832, 8000, 10648, 13824, 15625, 17576, 21952, 27000, 32768, 39304, 42875, 46656, 54872, 64000, 74088, 85184, 91125, 97336, 110592, 125000, 140608, 157464, 166375, 175616, 195112, 216000, 238328, 262144, 274625, 287496, 314432, 343000, 373248, 405224, 421875, 438976, 474552, 512000, 551368, 592704, 614125, 636056, 681472, 729000, 778688, 830584, 857375, 884736, 941192, 1000000]\n"
     ]
    }
   ],
   "source": [
    "l=[]\n",
    "i=1\n",
    "while i<=100:\n",
    "    l.append(i)\n",
    "    i=i+1\n",
    "l2=[]\n",
    "for i in l:\n",
    "    a=i*i*i\n",
    "    if a%4==0 or a%5==0:\n",
    "        l2.append(a)\n",
    "print(l2)\n",
    "    "
   ]
  },
  {
   "cell_type": "markdown",
   "id": "7e3f0bd5-56f5-47b1-a532-c3a9d6f6e2ee",
   "metadata": {},
   "source": [
    "Q5:"
   ]
  },
  {
   "cell_type": "code",
   "execution_count": 3,
   "id": "b584ba38-bee8-4309-a000-3df3b152d6ee",
   "metadata": {},
   "outputs": [
    {
     "name": "stdout",
     "output_type": "stream",
     "text": [
      "12\n"
     ]
    }
   ],
   "source": [
    "str=\"I want to become a data scientist\"\n",
    "str2=str.lower()\n",
    "vowel_count=0\n",
    "for i in str2:\n",
    "    if i=='a'or i=='e'or i=='i'or i=='o'or i=='u':\n",
    "        vowel_count=vowel_count+1\n",
    "print(vowel_count)\n",
    "    \n"
   ]
  },
  {
   "cell_type": "code",
   "execution_count": null,
   "id": "6c58fd8a-dc28-4e9b-8618-bfbef4438c22",
   "metadata": {},
   "outputs": [],
   "source": []
  }
 ],
 "metadata": {
  "kernelspec": {
   "display_name": "Python 3 (ipykernel)",
   "language": "python",
   "name": "python3"
  },
  "language_info": {
   "codemirror_mode": {
    "name": "ipython",
    "version": 3
   },
   "file_extension": ".py",
   "mimetype": "text/x-python",
   "name": "python",
   "nbconvert_exporter": "python",
   "pygments_lexer": "ipython3",
   "version": "3.10.8"
  }
 },
 "nbformat": 4,
 "nbformat_minor": 5
}
